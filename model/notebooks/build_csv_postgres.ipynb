{
 "cells": [
  {
   "cell_type": "markdown",
   "metadata": {},
   "source": [
    "## Purpose\n",
    "\n",
    "The purpose of this notebook is to build a CSV file that includes the preprocessed version of all the house & condo sale data from 2016-2021 given by the City of Winnipeg. \n",
    "\n",
    "The CSV will have 2 columns:\n",
    "\n",
    "1. ```PropertyType``` - to specify whether it is a house or condo\n",
    "2. ```PropertyDetails``` - a JSON string that has the house/condo information\n",
    "\n",
    "This CSV file will then be uploaded to a Azure Postgres Database.\n",
    "\n",
    "### Input\n",
    "\n",
    "This notebook requires 2 CSV files as input that will be read by Pandas:\n",
    "\n",
    "1. ```House sale data``` concatenated with its corresponding tax assessment information\n",
    "2. ```Condo sale data``` concatenated with its corresponding tax assessment information\n",
    "   \n",
    "You can change the location where Pandas will fetch the CSV file from, but currently it retrieves the file from a separate ```output``` folder.\n",
    "\n",
    "### Output\n",
    "\n",
    "This notebook will output a CSV file, with both house & condo sale data, in the same ```output``` folder, which can then be uploaded to the Postgres database."
   ]
  },
  {
   "cell_type": "code",
   "execution_count": 1,
   "metadata": {},
   "outputs": [],
   "source": [
    "import pandas as pd"
   ]
  },
  {
   "cell_type": "code",
   "execution_count": 2,
   "metadata": {},
   "outputs": [
    {
     "name": "stderr",
     "output_type": "stream",
     "text": [
      "C:\\Users\\arshb\\AppData\\Local\\Temp\\ipykernel_13832\\3363082665.py:3: DtypeWarning: Columns (6) have mixed types. Specify dtype option on import or set low_memory=False.\n",
      "  house_data = pd.read_csv('../datasets/output/house_sale_with_tax.csv')\n",
      "C:\\Users\\arshb\\AppData\\Local\\Temp\\ipykernel_13832\\3363082665.py:4: DtypeWarning: Columns (8,9) have mixed types. Specify dtype option on import or set low_memory=False.\n",
      "  condo_data = pd.read_csv('../datasets/output/condo_sale_with_tax.csv')\n"
     ]
    }
   ],
   "source": [
    "# Read the CSV files from their respective directory\n",
    "\n",
    "house_data = pd.read_csv('../datasets/output/house_sale_with_tax.csv')\n",
    "condo_data = pd.read_csv('../datasets/output/condo_sale_with_tax.csv')\n",
    "\n",
    "# Empty dataframe with 2 columns that will be outputted at end of this notebook\n",
    "\n",
    "output = pd.DataFrame(columns=['PropertyType', 'PropertyDetails'])"
   ]
  },
  {
   "cell_type": "code",
   "execution_count": 3,
   "metadata": {},
   "outputs": [],
   "source": [
    "\"\"\"\n",
    "Purpose:\n",
    "This function iterates over every row in the given dataframe, converts the entirety of each row into a JSON object \n",
    "and adds it as a column to the output dataframe\n",
    "\n",
    "Parameters:\n",
    "input - dataframe from which to read the information\n",
    "output - dataframe to which the JSON object will be added to\n",
    "type - string speciyfing whether the input dataframe holds 'house' or 'condo' data\n",
    "\n",
    "Return:\n",
    "output - dataframe that holds all the JSON objects in one of its column\n",
    "\"\"\"\n",
    "\n",
    "def add_rows(input, output, type):\n",
    "\n",
    "    # Iterate over all rows of the input dataframe\n",
    "\n",
    "    for index, row in input.iterrows():\n",
    "\n",
    "        # JSON object that holds the information from a row\n",
    "        prop_details = row.to_json()\n",
    "\n",
    "        # Create a new row with 2 columns, giving it the proper type string and the JSON object \n",
    "        new_row = pd.DataFrame({'PropertyType': [type], 'PropertyDetails': [prop_details]})\n",
    "\n",
    "        # Concatenate the above row with the output dataframe while ignoring the existing indices of the 2 dataframes\n",
    "        output = pd.concat([output, new_row], ignore_index=True)\n",
    "\n",
    "    return output"
   ]
  },
  {
   "cell_type": "code",
   "execution_count": 4,
   "metadata": {},
   "outputs": [],
   "source": [
    "# Call the above function on the 2 input CSV files and concatenate them with the same output dataframe\n",
    "\n",
    "output = add_rows(house_data, output, 'house')\n",
    "output = add_rows(condo_data, output, 'condo')"
   ]
  },
  {
   "cell_type": "code",
   "execution_count": 5,
   "metadata": {},
   "outputs": [
    {
     "data": {
      "text/html": [
       "<div>\n",
       "<style scoped>\n",
       "    .dataframe tbody tr th:only-of-type {\n",
       "        vertical-align: middle;\n",
       "    }\n",
       "\n",
       "    .dataframe tbody tr th {\n",
       "        vertical-align: top;\n",
       "    }\n",
       "\n",
       "    .dataframe thead th {\n",
       "        text-align: right;\n",
       "    }\n",
       "</style>\n",
       "<table border=\"1\" class=\"dataframe\">\n",
       "  <thead>\n",
       "    <tr style=\"text-align: right;\">\n",
       "      <th></th>\n",
       "      <th>PropertyType</th>\n",
       "      <th>PropertyDetails</th>\n",
       "    </tr>\n",
       "  </thead>\n",
       "  <tbody>\n",
       "    <tr>\n",
       "      <th>0</th>\n",
       "      <td>house</td>\n",
       "      <td>{\"Roll Number\":9000096000,\"Sale Year\":2017,\"Sa...</td>\n",
       "    </tr>\n",
       "    <tr>\n",
       "      <th>1</th>\n",
       "      <td>house</td>\n",
       "      <td>{\"Roll Number\":9000096500,\"Sale Year\":2016,\"Sa...</td>\n",
       "    </tr>\n",
       "    <tr>\n",
       "      <th>2</th>\n",
       "      <td>house</td>\n",
       "      <td>{\"Roll Number\":9000240000,\"Sale Year\":2017,\"Sa...</td>\n",
       "    </tr>\n",
       "    <tr>\n",
       "      <th>3</th>\n",
       "      <td>house</td>\n",
       "      <td>{\"Roll Number\":9000109000,\"Sale Year\":2017,\"Sa...</td>\n",
       "    </tr>\n",
       "    <tr>\n",
       "      <th>4</th>\n",
       "      <td>house</td>\n",
       "      <td>{\"Roll Number\":9000227500,\"Sale Year\":2016,\"Sa...</td>\n",
       "    </tr>\n",
       "  </tbody>\n",
       "</table>\n",
       "</div>"
      ],
      "text/plain": [
       "  PropertyType                                    PropertyDetails\n",
       "0        house  {\"Roll Number\":9000096000,\"Sale Year\":2017,\"Sa...\n",
       "1        house  {\"Roll Number\":9000096500,\"Sale Year\":2016,\"Sa...\n",
       "2        house  {\"Roll Number\":9000240000,\"Sale Year\":2017,\"Sa...\n",
       "3        house  {\"Roll Number\":9000109000,\"Sale Year\":2017,\"Sa...\n",
       "4        house  {\"Roll Number\":9000227500,\"Sale Year\":2016,\"Sa..."
      ]
     },
     "execution_count": 5,
     "metadata": {},
     "output_type": "execute_result"
    }
   ],
   "source": [
    "# Check the structure of the output dataframe\n",
    "\n",
    "output.head()"
   ]
  },
  {
   "cell_type": "code",
   "execution_count": 6,
   "metadata": {},
   "outputs": [
    {
     "name": "stdout",
     "output_type": "stream",
     "text": [
      "Check if all entries of house and condo was added to output: True\n"
     ]
    }
   ],
   "source": [
    "# Also check if no missing rows are missing in the output dataframe\n",
    "\n",
    "print(\"Check if all entries of house and condo was added to output: \" + str(len(output) == (len(house_data) + len(condo_data))))"
   ]
  },
  {
   "cell_type": "code",
   "execution_count": 7,
   "metadata": {},
   "outputs": [],
   "source": [
    "# Output the dataframe as a CSV file\n",
    "# We also set index to False so that the CSV doesn't include an extra column with the indices of each row\n",
    "\n",
    "output.to_csv('../datasets/output/upload_postgres.csv', index=False)"
   ]
  }
 ],
 "metadata": {
  "interpreter": {
   "hash": "f65a7ea2c87698a8bad8c81566a0e37199fcfdf607b6d5eb2dce35518d337549"
  },
  "kernelspec": {
   "display_name": "Python 3.10.4 64-bit",
   "language": "python",
   "name": "python3"
  },
  "language_info": {
   "codemirror_mode": {
    "name": "ipython",
    "version": 3
   },
   "file_extension": ".py",
   "mimetype": "text/x-python",
   "name": "python",
   "nbconvert_exporter": "python",
   "pygments_lexer": "ipython3",
   "version": "3.10.4"
  },
  "orig_nbformat": 4
 },
 "nbformat": 4,
 "nbformat_minor": 2
}
